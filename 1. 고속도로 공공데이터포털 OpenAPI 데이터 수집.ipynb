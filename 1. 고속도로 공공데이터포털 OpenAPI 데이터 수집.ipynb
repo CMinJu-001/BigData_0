{
 "cells": [
  {
   "cell_type": "markdown",
   "metadata": {},
   "source": [
    "# 2019년 6월"
   ]
  },
  {
   "cell_type": "markdown",
   "metadata": {},
   "source": [
    "코로나19 영향이 없었고, 명절이나 연말연시와 같은 특수한 상황을 배제하기 위해 2019년 6월로 기간을 선정"
   ]
  },
  {
   "cell_type": "markdown",
   "metadata": {},
   "source": [
    "# 1. 버스전용차로 구간통행속도 (주 데이터)\n",
    "버스전용차로구간 방향별 일별 구간별 1시간 지점통행속도를 조회하는 API"
   ]
  },
  {
   "cell_type": "markdown",
   "metadata": {},
   "source": [
    "    출력변수        값         설명 \n",
    "    collectDate     string     집계일자\n",
    "    collectHour     string     집계시\n",
    "    vdsId           string     VDS_ID\n",
    "    conzoneId       string     콘존ID\n",
    "    conzoneName     string     콘존명\n",
    "    laneTypeCode    string     차로유형구분코드\n",
    "    laneType        string     상세코드명\n",
    "    numOfRows       string     한 페이지당 출력건수\n",
    "    pageNo          string     출력 페이지번호\n",
    "    avgSpeed        string     평균 속도\n",
    "    pntDstnc        string     지점 이정"
   ]
  },
  {
   "cell_type": "markdown",
   "metadata": {},
   "source": [
    "### 1-1. 데이터 저장할 빈 데이터 프레임 만들기"
   ]
  },
  {
   "cell_type": "code",
   "execution_count": 32,
   "metadata": {},
   "outputs": [],
   "source": [
    "import pandas as pd\n",
    "df_3 = pd.DataFrame(columns=[\"collectDate\",\"collectHour\",\"vdsId\",\"conzoneId\",\"conzoneName\",\"laneTypeCode\",\"laneType\",'avgSpeed',\"pageNo\"])"
   ]
  },
  {
   "cell_type": "markdown",
   "metadata": {},
   "source": [
    "### 1-2. 날짜 리스트 만들기\n",
    "(날짜별 데이터 불러오기 위해서)"
   ]
  },
  {
   "cell_type": "code",
   "execution_count": 33,
   "metadata": {},
   "outputs": [],
   "source": [
    "# 날짜 리스트\n",
    "import calendar\n",
    "\n",
    "year = \"2019\"\n",
    "month = \"06\"\n",
    "day = [\"01\",str(calendar.monthrange(int(year),int(month))[1])]\n",
    "\n",
    "start_day =  str(year + month + day[0])\n",
    "end_day = str(year + month + day[1])\n",
    "\n",
    "dt_index=pd.date_range(start_day,end_day)\n",
    "dt_list = dt_index.strftime('%Y%m%d').tolist()\n",
    "dt_list\n",
    "\n",
    "# 시간 리스트\n",
    "time = ['07','08','09','10','11','12','13','14','15',\n",
    "        '16','17','18','19','20','21']"
   ]
  },
  {
   "cell_type": "markdown",
   "metadata": {},
   "source": [
    "### 1-3. 데이터 분할\n",
    "(한 번에 불러올 경우 오류가 뜨기 때문에 데이터를 나눠서 불러옴)"
   ]
  },
  {
   "cell_type": "code",
   "execution_count": 34,
   "metadata": {},
   "outputs": [],
   "source": [
    "dt_list_1 = dt_list[0:10]\n",
    "dt_list_2 = dt_list[10:20]\n",
    "dt_list_3 = dt_list[20:]"
   ]
  },
  {
   "cell_type": "markdown",
   "metadata": {},
   "source": [
    "### 1-4. OpenAPI 데이터 불러오기"
   ]
  },
  {
   "cell_type": "code",
   "execution_count": 35,
   "metadata": {},
   "outputs": [],
   "source": [
    "import requests\n",
    "from bs4 import BeautifulSoup\n",
    "\n",
    "for collectDate in dt_list_1: # 날짜 지정\n",
    "    for collectHour in time: # 시간 지정\n",
    "        # 필수키 설정\n",
    "        open_api_key = \"5902472954\"\n",
    "        \n",
    "        # 초기 page 값 설정\n",
    "        page = 0\n",
    "        data = [\"-\"]\n",
    "        \n",
    "        while data != []:\n",
    "            pageNo = f\"{page}\"\n",
    "            \n",
    "            # 파라미터 값 설정\n",
    "            params = f\"key={open_api_key}&type=xml&pageNo={pageNo}&collectDate={collectDate}&collectHour={collectHour}\"\n",
    "            # url 설정\n",
    "            open_url = \"http://data.ex.co.kr/openapi/buslane/speedDirectionSection?\" + params   \n",
    "            \n",
    "            res = requests.get(open_url)\n",
    "            soup = BeautifulSoup(res.content, 'html.parser')\n",
    "            data = soup.find_all('list')\n",
    "            for item in data:\n",
    "                collectDate = item.find('collectdate').get_text()   \n",
    "                collectHour = item.find('collecthour').get_text()   \n",
    "                vdsId       = item.find('vdsid').get_text()   \n",
    "                conzoneId   = item.find('conzoneid').get_text()   \n",
    "                conzoneName = item.find('conzonename').get_text()  \n",
    "                laneTypeCode = item.find('lanetypecode').get_text()  \n",
    "                laneType    = item.find('lanetype').get_text()\n",
    "                avgSpeed = item.find('avgspeed').get_text()\n",
    "                #pntDstnc = item.find(\"pntdstnc\").get_text()\n",
    "        \n",
    "                new_data = {\"collectDate\":collectDate,\"collectHour\":collectHour,\"vdsId\":vdsId,\n",
    "                            \"conzoneId\":conzoneId,\"conzoneName\":conzoneName,\"laneTypeCode\":laneTypeCode,\n",
    "                            \"laneType\":laneType,\"avgSpeed\":avgSpeed, \"pageNo\":pageNo}\n",
    "                df_3 = df_3.append(new_data,ignore_index =True)\n",
    "            \n",
    "            page += 1\n",
    "            "
   ]
  },
  {
   "cell_type": "code",
   "execution_count": 36,
   "metadata": {},
   "outputs": [],
   "source": [
    "import requests\n",
    "from bs4 import BeautifulSoup\n",
    "\n",
    "for collectDate in dt_list_2: # 날짜 지정\n",
    "    for collectHour in time: # 시간 지정\n",
    "        # 필수키 설정\n",
    "        open_api_key = \"5902472954\"\n",
    "        \n",
    "        # 초기 page 값 설정\n",
    "        page = 0\n",
    "        data = [\"아무거나 집어넣은거에용~ 어차피 바뀌어용~\"]\n",
    "        \n",
    "        while data != []:\n",
    "            pageNo = f\"{page}\"\n",
    "            \n",
    "            # 파라미터 값 설정\n",
    "            params = f\"key={open_api_key}&type=xml&pageNo={pageNo}&collectDate={collectDate}&collectHour={collectHour}\"\n",
    "            # url 설정\n",
    "            open_url = \"http://data.ex.co.kr/openapi/buslane/speedDirectionSection?\" + params   \n",
    "            \n",
    "            res = requests.get(open_url)\n",
    "            soup = BeautifulSoup(res.content, 'html.parser')\n",
    "            data = soup.find_all('list')\n",
    "            for item in data:\n",
    "                collectDate = item.find('collectdate').get_text()   \n",
    "                collectHour = item.find('collecthour').get_text()   \n",
    "                vdsId       = item.find('vdsid').get_text()   \n",
    "                conzoneId   = item.find('conzoneid').get_text()   \n",
    "                conzoneName = item.find('conzonename').get_text()  \n",
    "                laneTypeCode = item.find('lanetypecode').get_text()  \n",
    "                laneType    = item.find('lanetype').get_text()\n",
    "                avgSpeed = item.find('avgspeed').get_text()\n",
    "                #pntDstnc = item.find(\"pntdstnc\").get_text()\n",
    "                \n",
    "    \n",
    "    \n",
    "                new_data = {\"collectDate\":collectDate,\"collectHour\":collectHour,\"vdsId\":vdsId,\n",
    "                            \"conzoneId\":conzoneId,\"conzoneName\":conzoneName,\"laneTypeCode\":laneTypeCode,\n",
    "                            \"laneType\":laneType,\"avgSpeed\":avgSpeed, \"pageNo\":pageNo}\n",
    "                df_3 = df_3.append(new_data,ignore_index =True)\n",
    "            \n",
    "            page += 1\n",
    "            "
   ]
  },
  {
   "cell_type": "code",
   "execution_count": 37,
   "metadata": {},
   "outputs": [],
   "source": [
    "import requests\n",
    "from bs4 import BeautifulSoup\n",
    "\n",
    "for collectDate in dt_list_3: # 날짜 지정\n",
    "    for collectHour in time: # 시간 지정\n",
    "        # 필수키 설정\n",
    "        open_api_key = \"5902472954\"\n",
    "        \n",
    "        # 초기 page 값 설정\n",
    "        page = 0\n",
    "        data = [\"아무거나 집어넣은거에용~ 어차피 바뀌어용~\"]\n",
    "        \n",
    "        while data != []:\n",
    "            pageNo = f\"{page}\"\n",
    "            \n",
    "            # 파라미터 값 설정\n",
    "            params = f\"key={open_api_key}&type=xml&pageNo={pageNo}&collectDate={collectDate}&collectHour={collectHour}\"\n",
    "            # url 설정\n",
    "            open_url = \"http://data.ex.co.kr/openapi/buslane/speedDirectionSection?\" + params   \n",
    "            \n",
    "            res = requests.get(open_url)\n",
    "            soup = BeautifulSoup(res.content, 'html.parser')\n",
    "            data = soup.find_all('list')\n",
    "            for item in data:\n",
    "                collectDate = item.find('collectdate').get_text()   \n",
    "                collectHour = item.find('collecthour').get_text()   \n",
    "                vdsId       = item.find('vdsid').get_text()   \n",
    "                conzoneId   = item.find('conzoneid').get_text()   \n",
    "                conzoneName = item.find('conzonename').get_text()  \n",
    "                laneTypeCode = item.find('lanetypecode').get_text()  \n",
    "                laneType    = item.find('lanetype').get_text()\n",
    "                avgSpeed = item.find('avgspeed').get_text()\n",
    "                #pntDstnc = item.find(\"pntdstnc\").get_text()\n",
    "                \n",
    "    \n",
    "    \n",
    "                new_data = {\"collectDate\":collectDate,\"collectHour\":collectHour,\"vdsId\":vdsId,\n",
    "                            \"conzoneId\":conzoneId,\"conzoneName\":conzoneName,\"laneTypeCode\":laneTypeCode,\n",
    "                            \"laneType\":laneType,\"avgSpeed\":avgSpeed, \"pageNo\":pageNo}\n",
    "                df_3 = df_3.append(new_data,ignore_index =True)\n",
    "            \n",
    "            page += 1\n",
    "            "
   ]
  },
  {
   "cell_type": "code",
   "execution_count": 38,
   "metadata": {
    "collapsed": true,
    "jupyter": {
     "outputs_hidden": true
    }
   },
   "outputs": [
    {
     "data": {
      "text/html": [
       "<div>\n",
       "<style scoped>\n",
       "    .dataframe tbody tr th:only-of-type {\n",
       "        vertical-align: middle;\n",
       "    }\n",
       "\n",
       "    .dataframe tbody tr th {\n",
       "        vertical-align: top;\n",
       "    }\n",
       "\n",
       "    .dataframe thead th {\n",
       "        text-align: right;\n",
       "    }\n",
       "</style>\n",
       "<table border=\"1\" class=\"dataframe\">\n",
       "  <thead>\n",
       "    <tr style=\"text-align: right;\">\n",
       "      <th></th>\n",
       "      <th>collectDate</th>\n",
       "      <th>collectHour</th>\n",
       "      <th>vdsId</th>\n",
       "      <th>conzoneId</th>\n",
       "      <th>conzoneName</th>\n",
       "      <th>laneTypeCode</th>\n",
       "      <th>laneType</th>\n",
       "      <th>avgSpeed</th>\n",
       "      <th>pageNo</th>\n",
       "    </tr>\n",
       "  </thead>\n",
       "  <tbody>\n",
       "    <tr>\n",
       "      <th>0</th>\n",
       "      <td>20190601</td>\n",
       "      <td>07</td>\n",
       "      <td>0010VDE21900</td>\n",
       "      <td>0010CZE310</td>\n",
       "      <td>신탄진IC-남청주IC</td>\n",
       "      <td>2</td>\n",
       "      <td>버스차로</td>\n",
       "      <td>104.94</td>\n",
       "      <td>0</td>\n",
       "    </tr>\n",
       "    <tr>\n",
       "      <th>1</th>\n",
       "      <td>20190601</td>\n",
       "      <td>07</td>\n",
       "      <td>0010VDE22000</td>\n",
       "      <td>0010CZE310</td>\n",
       "      <td>신탄진IC-남청주IC</td>\n",
       "      <td>2</td>\n",
       "      <td>버스차로</td>\n",
       "      <td>117.38</td>\n",
       "      <td>0</td>\n",
       "    </tr>\n",
       "    <tr>\n",
       "      <th>2</th>\n",
       "      <td>20190601</td>\n",
       "      <td>07</td>\n",
       "      <td>0010VDE22100</td>\n",
       "      <td>0010CZE310</td>\n",
       "      <td>신탄진IC-남청주IC</td>\n",
       "      <td>2</td>\n",
       "      <td>버스차로</td>\n",
       "      <td>104.64</td>\n",
       "      <td>0</td>\n",
       "    </tr>\n",
       "    <tr>\n",
       "      <th>3</th>\n",
       "      <td>20190601</td>\n",
       "      <td>07</td>\n",
       "      <td>0010VDE22200</td>\n",
       "      <td>0010CZE310</td>\n",
       "      <td>신탄진IC-남청주IC</td>\n",
       "      <td>2</td>\n",
       "      <td>버스차로</td>\n",
       "      <td>89.02</td>\n",
       "      <td>0</td>\n",
       "    </tr>\n",
       "    <tr>\n",
       "      <th>4</th>\n",
       "      <td>20190601</td>\n",
       "      <td>07</td>\n",
       "      <td>0010VDE22300</td>\n",
       "      <td>0010CZE310</td>\n",
       "      <td>신탄진IC-남청주IC</td>\n",
       "      <td>2</td>\n",
       "      <td>버스차로</td>\n",
       "      <td>98.44</td>\n",
       "      <td>0</td>\n",
       "    </tr>\n",
       "    <tr>\n",
       "      <th>...</th>\n",
       "      <td>...</td>\n",
       "      <td>...</td>\n",
       "      <td>...</td>\n",
       "      <td>...</td>\n",
       "      <td>...</td>\n",
       "      <td>...</td>\n",
       "      <td>...</td>\n",
       "      <td>...</td>\n",
       "      <td>...</td>\n",
       "    </tr>\n",
       "    <tr>\n",
       "      <th>92381</th>\n",
       "      <td>20190630</td>\n",
       "      <td>20</td>\n",
       "      <td>0500VDS07500</td>\n",
       "      <td>0500CZS180</td>\n",
       "      <td>여주JC-이천IC</td>\n",
       "      <td>2</td>\n",
       "      <td>버스차로</td>\n",
       "      <td>104.85</td>\n",
       "      <td>41</td>\n",
       "    </tr>\n",
       "    <tr>\n",
       "      <th>92382</th>\n",
       "      <td>20190630</td>\n",
       "      <td>20</td>\n",
       "      <td>0500VDS07600</td>\n",
       "      <td>0500CZS180</td>\n",
       "      <td>여주JC-이천IC</td>\n",
       "      <td>2</td>\n",
       "      <td>버스차로</td>\n",
       "      <td>104.6</td>\n",
       "      <td>41</td>\n",
       "    </tr>\n",
       "    <tr>\n",
       "      <th>92383</th>\n",
       "      <td>20190630</td>\n",
       "      <td>20</td>\n",
       "      <td>0500VDS07700</td>\n",
       "      <td>0500CZS180</td>\n",
       "      <td>여주JC-이천IC</td>\n",
       "      <td>2</td>\n",
       "      <td>버스차로</td>\n",
       "      <td>104.34</td>\n",
       "      <td>41</td>\n",
       "    </tr>\n",
       "    <tr>\n",
       "      <th>92384</th>\n",
       "      <td>20190630</td>\n",
       "      <td>20</td>\n",
       "      <td>0500VDS07800</td>\n",
       "      <td>0500CZS180</td>\n",
       "      <td>여주JC-이천IC</td>\n",
       "      <td>2</td>\n",
       "      <td>버스차로</td>\n",
       "      <td>106.29</td>\n",
       "      <td>42</td>\n",
       "    </tr>\n",
       "    <tr>\n",
       "      <th>92385</th>\n",
       "      <td>20190630</td>\n",
       "      <td>20</td>\n",
       "      <td>0500VDS07900</td>\n",
       "      <td>0500CZS180</td>\n",
       "      <td>여주JC-이천IC</td>\n",
       "      <td>2</td>\n",
       "      <td>버스차로</td>\n",
       "      <td>-1.0</td>\n",
       "      <td>42</td>\n",
       "    </tr>\n",
       "  </tbody>\n",
       "</table>\n",
       "<p>92386 rows × 9 columns</p>\n",
       "</div>"
      ],
      "text/plain": [
       "      collectDate collectHour         vdsId   conzoneId  conzoneName  \\\n",
       "0        20190601          07  0010VDE21900  0010CZE310  신탄진IC-남청주IC   \n",
       "1        20190601          07  0010VDE22000  0010CZE310  신탄진IC-남청주IC   \n",
       "2        20190601          07  0010VDE22100  0010CZE310  신탄진IC-남청주IC   \n",
       "3        20190601          07  0010VDE22200  0010CZE310  신탄진IC-남청주IC   \n",
       "4        20190601          07  0010VDE22300  0010CZE310  신탄진IC-남청주IC   \n",
       "...           ...         ...           ...         ...          ...   \n",
       "92381    20190630          20  0500VDS07500  0500CZS180    여주JC-이천IC   \n",
       "92382    20190630          20  0500VDS07600  0500CZS180    여주JC-이천IC   \n",
       "92383    20190630          20  0500VDS07700  0500CZS180    여주JC-이천IC   \n",
       "92384    20190630          20  0500VDS07800  0500CZS180    여주JC-이천IC   \n",
       "92385    20190630          20  0500VDS07900  0500CZS180    여주JC-이천IC   \n",
       "\n",
       "      laneTypeCode laneType avgSpeed pageNo  \n",
       "0                2     버스차로   104.94      0  \n",
       "1                2     버스차로   117.38      0  \n",
       "2                2     버스차로   104.64      0  \n",
       "3                2     버스차로    89.02      0  \n",
       "4                2     버스차로    98.44      0  \n",
       "...            ...      ...      ...    ...  \n",
       "92381            2     버스차로   104.85     41  \n",
       "92382            2     버스차로    104.6     41  \n",
       "92383            2     버스차로   104.34     41  \n",
       "92384            2     버스차로   106.29     42  \n",
       "92385            2     버스차로     -1.0     42  \n",
       "\n",
       "[92386 rows x 9 columns]"
      ]
     },
     "execution_count": 38,
     "metadata": {},
     "output_type": "execute_result"
    }
   ],
   "source": [
    "df_3"
   ]
  },
  {
   "cell_type": "markdown",
   "metadata": {},
   "source": [
    "### 1-5. 데이터 CSV파일로 저장"
   ]
  },
  {
   "cell_type": "code",
   "execution_count": 39,
   "metadata": {},
   "outputs": [],
   "source": [
    "df_3.to_csv(f\"C:/Users/Kim Won Gyeung/Desktop/공공빅데이터청년인턴십/프로젝트/API 데이터/1. 버스전용차로 구간통행속도/버스전용차로 구간통행속도 {year}년 {month}월.csv\",encoding='EUC-KR')"
   ]
  },
  {
   "cell_type": "markdown",
   "metadata": {},
   "source": [
    "# 2. VDS 설치정보 조회 서비스 (주 데이터)\n",
    "VDS_ID별 X,Y 좌표 값 데이터 수집 (QGIS에 사용하기 위해서)"
   ]
  },
  {
   "cell_type": "markdown",
   "metadata": {},
   "source": [
    "### 2-1. 데이터 저장할 빈 데이터 프레임 만들기"
   ]
  },
  {
   "cell_type": "code",
   "execution_count": 1,
   "metadata": {},
   "outputs": [
    {
     "data": {
      "text/html": [
       "<div>\n",
       "<style scoped>\n",
       "    .dataframe tbody tr th:only-of-type {\n",
       "        vertical-align: middle;\n",
       "    }\n",
       "\n",
       "    .dataframe tbody tr th {\n",
       "        vertical-align: top;\n",
       "    }\n",
       "\n",
       "    .dataframe thead th {\n",
       "        text-align: right;\n",
       "    }\n",
       "</style>\n",
       "<table border=\"1\" class=\"dataframe\">\n",
       "  <thead>\n",
       "    <tr style=\"text-align: right;\">\n",
       "      <th></th>\n",
       "      <th>vdsid</th>\n",
       "      <th>x좌표</th>\n",
       "      <th>y좌표</th>\n",
       "    </tr>\n",
       "  </thead>\n",
       "  <tbody>\n",
       "  </tbody>\n",
       "</table>\n",
       "</div>"
      ],
      "text/plain": [
       "Empty DataFrame\n",
       "Columns: [vdsid, x좌표, y좌표]\n",
       "Index: []"
      ]
     },
     "execution_count": 1,
     "metadata": {},
     "output_type": "execute_result"
    }
   ],
   "source": [
    "import pandas as pd\n",
    "df1 = pd.DataFrame(columns=['vdsid','x좌표','y좌표'])\n",
    "df1"
   ]
  },
  {
   "cell_type": "markdown",
   "metadata": {},
   "source": [
    "### 2-2. OpenAPI 데이터 불러오기"
   ]
  },
  {
   "cell_type": "code",
   "execution_count": 2,
   "metadata": {},
   "outputs": [],
   "source": [
    "import requests\n",
    "from bs4 import BeautifulSoup\n",
    "\n",
    "\n",
    "# 필수키 설정\n",
    "open_api_key = \"8889954954\"\n",
    "numOfRows = \"10\"\n",
    "\n",
    "\n",
    "#초기값\n",
    "page = 0\n",
    "data = [\"-\"]\n",
    "    \n",
    "\n",
    "while data != []:\n",
    "    pageNo = f\"{page}\"\n",
    "    \n",
    "    # 파라미터 값 설정\n",
    "    params = f\"key={open_api_key}&type=xml&numOfRows={numOfRows}&pageNo={page}\"\n",
    "\n",
    "    # url 설정\n",
    "    open_url = \"http://data.ex.co.kr/openapi/vdsinfo/vdsList?\" + params\n",
    "\n",
    "    res = requests.get(open_url)\n",
    "\n",
    "    soup = BeautifulSoup(res.content, 'html.parser')\n",
    "    data = soup.find_all('list')\n",
    "\n",
    "    for item in data:\n",
    "        try:\n",
    "            vdsid = item.find('vdsid').get_text()\n",
    "            grs80x = item.find('grs80x').get_text()\n",
    "            grs80y = item.find('grs80y').get_text()\n",
    "            new_data = {\"vdsid\":vdsid,\"x좌표\":grs80x,\"y좌표\":grs80y}\n",
    "            df1 = df1.append(new_data, ignore_index = True )\n",
    "        except AttributeError:\n",
    "            pass\n",
    "        \n",
    "    page += 1"
   ]
  },
  {
   "cell_type": "markdown",
   "metadata": {},
   "source": [
    "### 2-3. 데이터 CSV파일로 저장"
   ]
  },
  {
   "cell_type": "code",
   "execution_count": 3,
   "metadata": {},
   "outputs": [],
   "source": [
    "df1.to_csv(\"C:/Users/Kim Won Gyeung/Desktop/공공빅데이터청년인턴십/프로젝트/API 데이터/vds_id별좌표값.csv\",encoding=\"EUC-KR\")"
   ]
  }
 ],
 "metadata": {
  "kernelspec": {
   "display_name": "Python 3",
   "language": "python",
   "name": "python3"
  },
  "language_info": {
   "codemirror_mode": {
    "name": "ipython",
    "version": 3
   },
   "file_extension": ".py",
   "mimetype": "text/x-python",
   "name": "python",
   "nbconvert_exporter": "python",
   "pygments_lexer": "ipython3",
   "version": "3.8.8"
  }
 },
 "nbformat": 4,
 "nbformat_minor": 4
}
